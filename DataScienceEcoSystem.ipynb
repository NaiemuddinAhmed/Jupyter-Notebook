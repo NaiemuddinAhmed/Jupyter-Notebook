{
 "cells": [
  {
   "cell_type": "markdown",
   "id": "8587dac5",
   "metadata": {},
   "source": [
    "# Data Science Tools and Ecosystem"
   ]
  },
  {
   "cell_type": "markdown",
   "id": "8aff4e95",
   "metadata": {},
   "source": [
    "In this notebook, Data Science Tools and Ecosystems are summarized."
   ]
  },
  {
   "cell_type": "markdown",
   "id": "deff40d1",
   "metadata": {},
   "source": [
    "Some of the popular languages that Data Scientists use are:\n",
    "\n",
    "    1. Python\n",
    "    2. R\n",
    "    3. Java\n",
    "    4. SQL"
   ]
  },
  {
   "cell_type": "markdown",
   "id": "6d644b34",
   "metadata": {},
   "source": [
    "Some of the common used libraries used by Data Scientists include: \n",
    "   \n",
    "    1. NumPy\n",
    "    2. TensorFlow\n",
    "    3. Keras"
   ]
  },
  {
   "cell_type": "markdown",
   "id": "615a47bc",
   "metadata": {},
   "source": [
    "| Data Science Tools |\n",
    "|--------------------|\n",
    "| Jupyter Notebook   |\n",
    "| RStudio            |\n",
    "| VS Code            |"
   ]
  },
  {
   "cell_type": "markdown",
   "id": "8e3da6e8",
   "metadata": {},
   "source": [
    "### Below are a few examples of arithmetic expressions in python"
   ]
  },
  {
   "cell_type": "code",
   "execution_count": 3,
   "id": "6786ee6c",
   "metadata": {},
   "outputs": [
    {
     "data": {
      "text/plain": [
       "17"
      ]
     },
     "execution_count": 3,
     "metadata": {},
     "output_type": "execute_result"
    }
   ],
   "source": [
    "(3*4)+5\n",
    "# This is a simple arithmetic expression to multiply and add numbers"
   ]
  },
  {
   "cell_type": "code",
   "execution_count": 6,
   "id": "79db132f",
   "metadata": {},
   "outputs": [
    {
     "name": "stdout",
     "output_type": "stream",
     "text": [
      "3\n"
     ]
    }
   ],
   "source": [
    "mins = 200\n",
    "minsToHrs = mins/60 #this will convert 200 mins to hrs by dividing 60\n",
    "print(round(minsToHrs))\n"
   ]
  },
  {
   "cell_type": "markdown",
   "id": "6a68f1f2",
   "metadata": {},
   "source": [
    "**Objectives:**\n",
    "\n",
    " - List popular languages\n",
    " - arithmetic expressions\n",
    " - common libraries used\n",
    " - working with markdown cells"
   ]
  },
  {
   "cell_type": "markdown",
   "id": "3f8c0e2b",
   "metadata": {},
   "source": [
    "## Author\n",
    "Naiemuddin Ahmed\n"
   ]
  },
  {
   "cell_type": "code",
   "execution_count": null,
   "id": "046e3af8",
   "metadata": {},
   "outputs": [],
   "source": []
  }
 ],
 "metadata": {
  "kernelspec": {
   "display_name": "Python 3 (ipykernel)",
   "language": "python",
   "name": "python3"
  },
  "language_info": {
   "codemirror_mode": {
    "name": "ipython",
    "version": 3
   },
   "file_extension": ".py",
   "mimetype": "text/x-python",
   "name": "python",
   "nbconvert_exporter": "python",
   "pygments_lexer": "ipython3",
   "version": "3.11.3"
  }
 },
 "nbformat": 4,
 "nbformat_minor": 5
}
